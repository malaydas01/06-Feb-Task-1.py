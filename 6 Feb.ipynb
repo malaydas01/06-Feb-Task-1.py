{
 "cells": [
  {
   "cell_type": "code",
   "execution_count": null,
   "id": "3c83fd0f-2ad1-4bb7-a604-42f17968c467",
   "metadata": {},
   "outputs": [],
   "source": [
    "Q1. Create a function which will take a list as an argument and return the product of all the numbers\n",
    "after creating a flat list.\n",
    "Use the below-given list as an argument for your function.\n",
    "\n",
    "list1 = [1,2,3,4, [44,55,66, True], False, (34,56,78,89,34), {1,2,3,3,2,1}, {1:34, \"key2\": [55, 67, 78, 89], 4: (45,\n",
    "22, 61, 34)}, [56, 'data science'], 'Machine Learning']"
   ]
  },
  {
   "cell_type": "code",
   "execution_count": 1,
   "id": "6efaeb77-23c6-44d3-b426-b6adfd48b584",
   "metadata": {},
   "outputs": [],
   "source": [
    "def product_of_numbers(lst):\n",
    "    # flatten the list\n",
    "    flat_lst = []\n",
    "    for i in lst:\n",
    "        if type(i) == list or type(i) == tuple or type(i) == set:\n",
    "            flat_lst += list(i)\n",
    "        else:\n",
    "            flat_lst.append(i)\n",
    "\n",
    "    # calculate the product of numbers\n",
    "    product = 1\n",
    "    for i in flat_lst:\n",
    "        if type(i) == int or type(i) == float:\n",
    "            product *= i\n",
    "\n",
    "    return product\n"
   ]
  },
  {
   "cell_type": "code",
   "execution_count": 2,
   "id": "96ad3ebf-cf27-4fee-89ad-d2e8deac21dc",
   "metadata": {},
   "outputs": [
    {
     "name": "stdout",
     "output_type": "stream",
     "text": [
      "578815684656168960\n"
     ]
    }
   ],
   "source": [
    "list1 = [1,2,3,4, [44,55,66, True], False, (34,56,78,89,34), {1,2,3,3,2,1}, {1:34, \"key2\": [55, 67, 78, 89], 4: (45, 22, 61, 34)}, [56, 'data science'], 'Machine Learning']\n",
    "\n",
    "print(product_of_numbers(list1))\n"
   ]
  },
  {
   "cell_type": "code",
   "execution_count": null,
   "id": "fa94b1cb-35b3-4711-9863-57b264228639",
   "metadata": {},
   "outputs": [],
   "source": [
    "Q2. Write a python program for encrypting a message sent to you by your friend. The logic of encryption\n",
    "should be such that, for a the output should be z. For b, the output should be y. For c, the output should\n",
    "be x respectively. Also, the whitespace should be replaced with a dollar sign. Keep the punctuation\n",
    "marks unchanged.\n",
    "Input Sentence: I want to become a Data Scientist.\n",
    "Encrypt the above input sentence using the program you just created."
   ]
  },
  {
   "cell_type": "code",
   "execution_count": 3,
   "id": "d9ec238a-8a28-4ac8-95e0-4604ea60036a",
   "metadata": {},
   "outputs": [
    {
     "name": "stdout",
     "output_type": "stream",
     "text": [
      "vool,$sld$ziv$blf?\n"
     ]
    }
   ],
   "source": [
    "def encrypt_message(message):\n",
    "    encrypted = \"\"\n",
    "    for letter in message:\n",
    "        if letter.isalpha():\n",
    "            encrypted += chr(219 - ord(letter)) \n",
    "        elif letter.isspace():\n",
    "            encrypted += \"$\" \n",
    "        else:\n",
    "            encrypted += letter \n",
    "    return encrypted\n",
    "\n",
    "# example usage\n",
    "message = \"Hello, how are you?\"\n",
    "encrypted_message = encrypt_message(message)\n",
    "print(encrypted_message)\n"
   ]
  }
 ],
 "metadata": {
  "kernelspec": {
   "display_name": "Python 3 (ipykernel)",
   "language": "python",
   "name": "python3"
  },
  "language_info": {
   "codemirror_mode": {
    "name": "ipython",
    "version": 3
   },
   "file_extension": ".py",
   "mimetype": "text/x-python",
   "name": "python",
   "nbconvert_exporter": "python",
   "pygments_lexer": "ipython3",
   "version": "3.10.8"
  }
 },
 "nbformat": 4,
 "nbformat_minor": 5
}
